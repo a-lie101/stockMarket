{
 "cells": [
  {
   "cell_type": "code",
   "execution_count": null,
   "metadata": {},
   "outputs": [],
   "source": [
    "import yfinance as yf \n",
    "import matplotlib.pyplot as plt \n",
    "import pandas as pd \n",
    "from pandas.plotting import scatter_matrix\n",
    "\n",
    "print(\"we out\")\n",
    "start = \"2014-01-01\"\n",
    "end = \"2019-01-01\"\n",
    "\n",
    "gs = yf.download('GS',start,end,progress = False)\n",
    "msft = yf.download('MSFT',start,end,progress=False)\n",
    "br = yf.download('BLK',start,end,progress=False)\n",
    "\n",
    "def pchange(dataframe):\n",
    "    dataframe[\"change\"] = dataframe[\"Close\"]/dataframe[\"Close\"].shift(1) - 1\n",
    "\n",
    "def plotHist(series, ticker):\n",
    "    series.hist(Label = yf.Ticker(ticker).info[\"longName\"])\n",
    "\n",
    "stuff = [(gs, \"GS\"), (msft, \"MSFT\"), (br, \"BLK\")]\n",
    "\n",
    "for company, ticker in stuff:\n",
    "    pchange(company)\n",
    "    plotHist(company[\"change\"], ticker)\n",
    "\n",
    "plt.title(\"Histogram\")\n",
    "plt.legend()\n",
    "plt.show()"
   ]
  }
 ],
 "metadata": {
  "kernelspec": {
   "display_name": "Python 3.9.13 64-bit (windows store)",
   "language": "python",
   "name": "python3"
  },
  "language_info": {
   "codemirror_mode": {
    "name": "ipython",
    "version": 3
   },
   "file_extension": ".py",
   "mimetype": "text/x-python",
   "name": "python",
   "nbconvert_exporter": "python",
   "pygments_lexer": "ipython3",
   "version": "3.9.13"
  },
  "orig_nbformat": 4,
  "vscode": {
   "interpreter": {
    "hash": "e58cdbff0e1b9a2acb48d3d02023885b1a97356088650abf73ed805ef660a61e"
   }
  }
 },
 "nbformat": 4,
 "nbformat_minor": 2
}
